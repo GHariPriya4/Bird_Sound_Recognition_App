{
 "cells": [
  {
   "cell_type": "markdown",
   "metadata": {},
   "source": [
    "# Bird Sound Classifier Training\n",
    "\n",
    "This notebook implements a bird sound classifier for 5 species:\n",
    "\n",
    "1. White-breasted Wood-Wren\n",
    "2. House Sparrow\n",
    "3. Red Crossbill\n",
    "4. Chestnut-crowned Antpitta\n",
    "5. Azara's Spinetail"
   ]
  },
  {
   "cell_type": "code",
   "execution_count": null,
   "metadata": {},
   "outputs": [],
   "source": [
    "import tensorflow as tf\n",
    "import tensorflow_hub as hub\n",
    "import numpy as np\n",
    "import librosa\n",
    "import os\n",
    "from sklearn.model_selection import train_test_split\n",
    "from tensorflow.keras import layers, models"
   ]
  },
  {
   "cell_type": "code",
   "execution_count": null,
   "metadata": {},
   "outputs": [],
   "source": [
    "# Load YAMNet model\n",
    "yamnet_model = hub.load('https://tfhub.dev/google/yamnet/1')"
   ]
  },
  {
   "cell_type": "code",
   "execution_count": null,
   "metadata": {},
   "outputs": [],
   "source": [
    "def load_audio(file_path, target_sr=16000):\n",
    "    \"\"\"Load and preprocess audio file\"\"\"\n",
    "    audio, sr = librosa.load(file_path, sr=target_sr)\n",
    "    \n",
    "    # Ensure 30 second length (16000 * 30 samples)\n",
    "    target_length = 16000 * 30\n",
    "    if len(audio) < target_length:\n",
    "        audio = np.pad(audio, (0, target_length - len(audio)))\n",
    "    else:\n",
    "        audio = audio[:target_length]\n",
    "        \n",
    "    return audio"
   ]
  },
  {
   "cell_type": "code",
   "execution_count": null,
   "metadata": {},
   "outputs": [],
   "source": [
    "def extract_yamnet_features(audio):\n",
    "    \"\"\"Extract features using YAMNet\"\"\"\n",
    "    scores, embeddings, mel_spec = yamnet_model(audio)\n",
    "    return embeddings  # Using YAMNet's embeddings as features"
   ]
  },
  {
   "cell_type": "code",
   "execution_count": null,
   "metadata": {},
   "outputs": [],
   "source": [
    "def prepare_dataset(data_dir):\n",
    "    \"\"\"Prepare dataset from directory structure\"\"\"\n",
    "    features = []\n",
    "    labels = []\n",
    "    \n",
    "    for i, bird_species in enumerate(os.listdir(data_dir)):\n",
    "        species_dir = os.path.join(data_dir, bird_species)\n",
    "        if not os.path.isdir(species_dir):\n",
    "            continue\n",
    "            \n",
    "        for audio_file in os.listdir(species_dir):\n",
    "            if not audio_file.endswith('.wav'):\n",
    "                continue\n",
    "                \n",
    "            audio_path = os.path.join(species_dir, audio_file)\n",
    "            audio = load_audio(audio_path)\n",
    "            embeddings = extract_yamnet_features(audio)\n",
    "            \n",
    "            # Average the embeddings over time\n",
    "            feature_vector = tf.reduce_mean(embeddings, axis=0)\n",
    "            features.append(feature_vector)\n",
    "            labels.append(i)\n",
    "    \n",
    "    return np.array(features), np.array(labels)"
   ]
  },
  {
   "cell_type": "code",
   "execution_count": null,
   "metadata": {},
   "outputs": [],
   "source": [
    "def create_model():\n",
    "    \"\"\"Create bird classifier model\"\"\"\n",
    "    model = models.Sequential([\n",
    "        layers.Dense(256, activation='relu', input_shape=(1024,)),  # YAMNet embedding size is 1024\n",
    "        layers.Dropout(0.3),\n",
    "        layers.Dense(128, activation='relu'),\n",
    "        layers.Dropout(0.3),\n",
    "        layers.Dense(64, activation='relu'),\n",
    "        layers.Dense(5, activation='softmax')  # 5 bird species\n",
    "    ])\n",
    "    \n",
    "    model.compile(\n",
    "        optimizer='adam',\n",
    "        loss='sparse_categorical_crossentropy',\n",
    "        metrics=['accuracy']\n",
    "    )\n",
    "    \n",
    "    return model"
   ]
  },
  {
   "cell_type": "code",
   "execution_count": null,
   "metadata": {},
   "outputs": [],
   "source": [
    "# Load and prepare dataset\n",
    "DATA_DIR = 'path_to_your_bird_sound_dataset'\n",
    "features, labels = prepare_dataset(DATA_DIR)\n",
    "\n",
    "# Split dataset\n",
    "X_train, X_test, y_train, y_test = train_test_split(\n",
    "    features, labels, test_size=0.2, random_state=42\n",
    ")"
   ]
  },
  {
   "cell_type": "code",
   "execution_count": null,
   "metadata": {},
   "outputs": [],
   "source": [
    "# Create and train model\n",
    "model = create_model()\n",
    "\n",
    "history = model.fit(\n",
    "    X_train, y_train,\n",
    "    epochs=50,\n",
    "    batch_size=32,\n",
    "    validation_data=(X_test, y_test),\n",
    "    callbacks=[tf.keras.callbacks.EarlyStopping(patience=5)]\n",
    ")"
   ]
  },
  {
   "cell_type": "code",
   "execution_count": null,
   "metadata": {},
   "outputs": [],
   "source": [
    "# Evaluate model\n",
    "test_loss, test_accuracy = model.evaluate(X_test, y_test)\n",
    "print(f'Test accuracy: {test_accuracy:.4f}')"
   ]
  },
  {
   "cell_type": "code",
   "execution_count": null,
   "metadata": {},
   "outputs": [],
   "source": [
    "# Convert to TFLite\n",
    "converter = tf.lite.TFLiteConverter.from_keras_model(model)\n",
    "tflite_model = converter.convert()\n",
    "\n",
    "# Save TFLite model\n",
    "with open('bird_classifier.tflite', 'wb') as f:\n",
    "    f.write(tflite_model)"
   ]
  }
 ],
 "metadata": {
  "kernelspec": {
   "display_name": "Python 3",
   "language": "python",
   "name": "python3"
  },
  "language_info": {
   "codemirror_mode": {
    "name": "ipython",
    "version": 3
   },
   "file_extension": ".py",
   "mimetype": "text/x-python",
   "name": "python",
   "nbconvert_exporter": "python",
   "pygments_lexer": "ipython3",
   "version": "3.8.0"
  }
 },
 "nbformat": 4,
 "nbformat_minor": 4
}
